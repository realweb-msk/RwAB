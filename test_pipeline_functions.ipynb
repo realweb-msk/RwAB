{
 "cells": [
  {
   "cell_type": "markdown",
   "metadata": {},
   "source": [
    "# Тест исходных функций"
   ]
  },
  {
   "cell_type": "code",
   "execution_count": null,
   "metadata": {},
   "outputs": [],
   "source": [
    "from itertools import combinations\n",
    "\n",
    "import pandas as pd\n",
    "res_alpha = pd.read_csv('res_alpha.csv', sep=';')\n",
    "\n",
    "def compute_combinations(values_, max_len):\n",
    "        \"\"\"\n",
    "        Зачем:\n",
    "        Что берет:\n",
    "        Что выдает:\n",
    "        \"\"\"\n",
    "        _res = []\n",
    "        _res.append(tuple())\n",
    "        for i in range(1, max_len + 1):\n",
    "            _res.extend([g for g in combinations(values_, i)])\n",
    "        return _res\n",
    "\n",
    "def get_unique_values(df, columns):\n",
    "        _unique_vals = []\n",
    "        _dict = {}\n",
    "        for col in columns:\n",
    "            uniques = df[col].unique()\n",
    "            for val in uniques:\n",
    "                _unique_vals.append(val)\n",
    "                _dict[val] = col\n",
    "\n",
    "        return _unique_vals, _dict"
   ]
  },
  {
   "cell_type": "code",
   "execution_count": 3,
   "metadata": {},
   "outputs": [
    {
     "data": {
      "text/plain": [
       "(['mobile',\n",
       "  'desktop',\n",
       "  'tablet',\n",
       "  'Returning Visitor',\n",
       "  'New Visitor',\n",
       "  'channel1',\n",
       "  'channel2'],\n",
       " {'mobile': 'deviceCategory',\n",
       "  'desktop': 'deviceCategory',\n",
       "  'tablet': 'deviceCategory',\n",
       "  'Returning Visitor': 'userType',\n",
       "  'New Visitor': 'userType',\n",
       "  'channel1': 'channel',\n",
       "  'channel2': 'channel'})"
      ]
     },
     "execution_count": 3,
     "metadata": {},
     "output_type": "execute_result"
    }
   ],
   "source": [
    "get_unique_values(res_alpha, ['deviceCategory', 'userType', 'channel'])"
   ]
  },
  {
   "cell_type": "code",
   "execution_count": 10,
   "metadata": {},
   "outputs": [
    {
     "data": {
      "text/plain": [
       "[(),\n",
       " ('mobile',),\n",
       " ('desktop',),\n",
       " ('tablet',),\n",
       " ('Returning Visitor',),\n",
       " ('New Visitor',),\n",
       " ('channel1',),\n",
       " ('channel2',),\n",
       " ('mobile', 'desktop'),\n",
       " ('mobile', 'tablet'),\n",
       " ('mobile', 'Returning Visitor'),\n",
       " ('mobile', 'New Visitor'),\n",
       " ('mobile', 'channel1'),\n",
       " ('mobile', 'channel2'),\n",
       " ('desktop', 'tablet'),\n",
       " ('desktop', 'Returning Visitor'),\n",
       " ('desktop', 'New Visitor'),\n",
       " ('desktop', 'channel1'),\n",
       " ('desktop', 'channel2'),\n",
       " ('tablet', 'Returning Visitor'),\n",
       " ('tablet', 'New Visitor'),\n",
       " ('tablet', 'channel1'),\n",
       " ('tablet', 'channel2'),\n",
       " ('Returning Visitor', 'New Visitor'),\n",
       " ('Returning Visitor', 'channel1'),\n",
       " ('Returning Visitor', 'channel2'),\n",
       " ('New Visitor', 'channel1'),\n",
       " ('New Visitor', 'channel2'),\n",
       " ('channel1', 'channel2'),\n",
       " ('mobile', 'desktop', 'tablet'),\n",
       " ('mobile', 'desktop', 'Returning Visitor'),\n",
       " ('mobile', 'desktop', 'New Visitor'),\n",
       " ('mobile', 'desktop', 'channel1'),\n",
       " ('mobile', 'desktop', 'channel2'),\n",
       " ('mobile', 'tablet', 'Returning Visitor'),\n",
       " ('mobile', 'tablet', 'New Visitor'),\n",
       " ('mobile', 'tablet', 'channel1'),\n",
       " ('mobile', 'tablet', 'channel2'),\n",
       " ('mobile', 'Returning Visitor', 'New Visitor'),\n",
       " ('mobile', 'Returning Visitor', 'channel1'),\n",
       " ('mobile', 'Returning Visitor', 'channel2'),\n",
       " ('mobile', 'New Visitor', 'channel1'),\n",
       " ('mobile', 'New Visitor', 'channel2'),\n",
       " ('mobile', 'channel1', 'channel2'),\n",
       " ('desktop', 'tablet', 'Returning Visitor'),\n",
       " ('desktop', 'tablet', 'New Visitor'),\n",
       " ('desktop', 'tablet', 'channel1'),\n",
       " ('desktop', 'tablet', 'channel2'),\n",
       " ('desktop', 'Returning Visitor', 'New Visitor'),\n",
       " ('desktop', 'Returning Visitor', 'channel1'),\n",
       " ('desktop', 'Returning Visitor', 'channel2'),\n",
       " ('desktop', 'New Visitor', 'channel1'),\n",
       " ('desktop', 'New Visitor', 'channel2'),\n",
       " ('desktop', 'channel1', 'channel2'),\n",
       " ('tablet', 'Returning Visitor', 'New Visitor'),\n",
       " ('tablet', 'Returning Visitor', 'channel1'),\n",
       " ('tablet', 'Returning Visitor', 'channel2'),\n",
       " ('tablet', 'New Visitor', 'channel1'),\n",
       " ('tablet', 'New Visitor', 'channel2'),\n",
       " ('tablet', 'channel1', 'channel2'),\n",
       " ('Returning Visitor', 'New Visitor', 'channel1'),\n",
       " ('Returning Visitor', 'New Visitor', 'channel2'),\n",
       " ('Returning Visitor', 'channel1', 'channel2'),\n",
       " ('New Visitor', 'channel1', 'channel2')]"
      ]
     },
     "execution_count": 10,
     "metadata": {},
     "output_type": "execute_result"
    }
   ],
   "source": [
    "_unique_vals, _group_val_dict = get_unique_values(res_alpha, ['deviceCategory', 'userType', 'channel'])\n",
    "\n",
    "compute_combinations(_unique_vals, len(['deviceCategory', 'userType', 'channel']))"
   ]
  },
  {
   "cell_type": "code",
   "execution_count": 11,
   "metadata": {},
   "outputs": [],
   "source": [
    "comb = compute_combinations(\n",
    "    _unique_vals, \n",
    "    len(['deviceCategory', 'userType', 'channel']))"
   ]
  },
  {
   "cell_type": "markdown",
   "metadata": {},
   "source": [
    "# Создание костыля для корректировки комбинаций"
   ]
  },
  {
   "cell_type": "code",
   "execution_count": 13,
   "metadata": {},
   "outputs": [
    {
     "data": {
      "text/plain": [
       "[(),\n",
       " ('mobile',),\n",
       " ('desktop',),\n",
       " ('tablet',),\n",
       " ('Returning Visitor',),\n",
       " ('New Visitor',),\n",
       " ('channel1',),\n",
       " ('channel2',),\n",
       " ('mobile', 'Returning Visitor'),\n",
       " ('mobile', 'New Visitor'),\n",
       " ('mobile', 'channel1'),\n",
       " ('mobile', 'channel2'),\n",
       " ('desktop', 'Returning Visitor'),\n",
       " ('desktop', 'New Visitor'),\n",
       " ('desktop', 'channel1'),\n",
       " ('desktop', 'channel2'),\n",
       " ('tablet', 'Returning Visitor'),\n",
       " ('tablet', 'New Visitor'),\n",
       " ('tablet', 'channel1'),\n",
       " ('tablet', 'channel2'),\n",
       " ('Returning Visitor', 'channel1'),\n",
       " ('Returning Visitor', 'channel2'),\n",
       " ('New Visitor', 'channel1'),\n",
       " ('New Visitor', 'channel2'),\n",
       " ('mobile', 'Returning Visitor', 'channel1'),\n",
       " ('mobile', 'Returning Visitor', 'channel2'),\n",
       " ('mobile', 'New Visitor', 'channel1'),\n",
       " ('mobile', 'New Visitor', 'channel2'),\n",
       " ('desktop', 'Returning Visitor', 'channel1'),\n",
       " ('desktop', 'Returning Visitor', 'channel2'),\n",
       " ('desktop', 'New Visitor', 'channel1'),\n",
       " ('desktop', 'New Visitor', 'channel2'),\n",
       " ('tablet', 'Returning Visitor', 'channel1'),\n",
       " ('tablet', 'Returning Visitor', 'channel2'),\n",
       " ('tablet', 'New Visitor', 'channel1'),\n",
       " ('tablet', 'New Visitor', 'channel2')]"
      ]
     },
     "execution_count": 13,
     "metadata": {},
     "output_type": "execute_result"
    }
   ],
   "source": [
    "# корректируем комбинации для корректной работы фильтров с единичным выбором\n",
    "# задаем [] для скорректированного списка комбинаций\n",
    "comb_corrected = []\n",
    "for x in comb: \n",
    "    temp=[] # задаем [] для тех параметров, значения которых попали в комбинацию\n",
    "    # собираем этот []\n",
    "    for y in x:\n",
    "        if _group_val_dict.get(y) is not None:\n",
    "            temp.append(_group_val_dict.get(y))\n",
    "    # Если число элементов полученного [] равно числу его уникальных элементов,\n",
    "    if len(temp)==len(set(temp)):\n",
    "        # то комбинация корректна, добавляем в список скорректированных комбинаций\n",
    "        comb_corrected.append(x)\n",
    "\n",
    "comb_corrected"
   ]
  },
  {
   "cell_type": "markdown",
   "metadata": {},
   "source": [
    "# Тест работы либы после добавления костыля"
   ]
  },
  {
   "cell_type": "code",
   "execution_count": 1,
   "metadata": {},
   "outputs": [],
   "source": [
    "from ab_test_pipeline import Pipeline\n",
    "import pandas as pd\n",
    "res_alpha = pd.read_csv('res_alpha.csv', sep=';')"
   ]
  },
  {
   "cell_type": "code",
   "execution_count": null,
   "metadata": {},
   "outputs": [],
   "source": [
    "p = Pipeline(res_alpha)\n",
    "res = p.pipeline('date', experiment_var_col=\"experimentVariant\", \n",
    "                groups = ['deviceCategory', 'userType'],\n",
    "               metrics_for_binary={\"conversions\": \"sessions\"})"
   ]
  },
  {
   "cell_type": "code",
   "execution_count": 3,
   "metadata": {},
   "outputs": [
    {
     "name": "stdout",
     "output_type": "stream",
     "text": [
      "   deviceCategory           userType first second                   metric mean_lift   test_type   p_value\n",
      "0        No group           No group  df_0   df_1  conversions_sessions_CR  0.093551      z-test  0.120127\n",
      "1        No group           No group  df_0   df_1  conversions_sessions_CR -0.013811  bayes_test  0.060127\n",
      "2        No group           No group  df_0   df_2  conversions_sessions_CR  0.043886      z-test       0.0\n",
      "3        No group           No group  df_0   df_2  conversions_sessions_CR -0.048935  bayes_test       0.0\n",
      "4        No group           No group  df_1   df_2  conversions_sessions_CR -0.045416      z-test       0.0\n",
      "5        No group           No group  df_1   df_2  conversions_sessions_CR -0.063422  bayes_test       0.0\n",
      "6          mobile           No group  df_0   df_1  conversions_sessions_CR  0.186467      z-test       0.0\n",
      "7          mobile           No group  df_0   df_1  conversions_sessions_CR -0.194527  bayes_test       0.0\n",
      "8          mobile           No group  df_0   df_2  conversions_sessions_CR  0.108097      z-test       0.0\n",
      "9          mobile           No group  df_0   df_2  conversions_sessions_CR  -0.32075  bayes_test      -0.0\n",
      "10         mobile           No group  df_1   df_2  conversions_sessions_CR -0.066054      z-test       0.0\n",
      "11         mobile           No group  df_1   df_2  conversions_sessions_CR -0.105668  bayes_test       0.0\n",
      "12        desktop           No group  df_0   df_1  conversions_sessions_CR  0.118085      z-test  0.000052\n",
      "13        desktop           No group  df_0   df_1  conversions_sessions_CR -0.041584  bayes_test  0.000026\n",
      "14        desktop           No group  df_0   df_2  conversions_sessions_CR  0.053128      z-test  0.007567\n",
      "15        desktop           No group  df_0   df_2  conversions_sessions_CR -0.025143  bayes_test  0.003792\n",
      "16        desktop           No group  df_1   df_2  conversions_sessions_CR -0.058096      z-test       0.0\n",
      "17        desktop           No group  df_1   df_2  conversions_sessions_CR -0.067772  bayes_test       0.0\n",
      "18         tablet           No group  df_0   df_1  conversions_sessions_CR -0.635695      z-test  0.000577\n",
      "19         tablet           No group  df_0   df_1  conversions_sessions_CR -0.351762  bayes_test  0.000247\n",
      "20         tablet           No group  df_0   df_2  conversions_sessions_CR -0.153462      z-test  0.276284\n",
      "21         tablet           No group  df_0   df_2  conversions_sessions_CR -0.089677  bayes_test  0.141017\n",
      "22         tablet           No group  df_1   df_2  conversions_sessions_CR  1.323706      z-test  0.033743\n",
      "23         tablet           No group  df_1   df_2  conversions_sessions_CR -0.240516  bayes_test  0.016916\n",
      "24       No group  Returning Visitor  df_0   df_1  conversions_sessions_CR    0.0911      z-test  0.005658\n",
      "25       No group  Returning Visitor  df_0   df_1  conversions_sessions_CR -0.025338  bayes_test  0.002819\n",
      "26       No group  Returning Visitor  df_0   df_2  conversions_sessions_CR   0.03733      z-test   0.00039\n",
      "27       No group  Returning Visitor  df_0   df_2  conversions_sessions_CR  -0.02957  bayes_test  0.000196\n",
      "28       No group  Returning Visitor  df_1   df_2  conversions_sessions_CR -0.049281      z-test       0.0\n",
      "29       No group  Returning Visitor  df_1   df_2  conversions_sessions_CR -0.055657  bayes_test       0.0\n",
      "30       No group        New Visitor  df_0   df_1  conversions_sessions_CR  0.004387      z-test  0.771981\n",
      "31       No group        New Visitor  df_0   df_1  conversions_sessions_CR  0.012214  bayes_test   0.61725\n",
      "32       No group        New Visitor  df_0   df_2  conversions_sessions_CR  0.004011      z-test  0.576738\n",
      "33       No group        New Visitor  df_0   df_2  conversions_sessions_CR -0.023253  bayes_test  0.285733\n",
      "34       No group        New Visitor  df_1   df_2  conversions_sessions_CR -0.000375      z-test  0.817562\n",
      "35       No group        New Visitor  df_1   df_2  conversions_sessions_CR  0.010641  bayes_test  0.591118\n",
      "36         mobile  Returning Visitor  df_0   df_1  conversions_sessions_CR  0.172864      z-test       0.0\n",
      "37         mobile  Returning Visitor  df_0   df_1  conversions_sessions_CR -0.178222  bayes_test      -0.0\n",
      "38         mobile  Returning Visitor  df_0   df_2  conversions_sessions_CR  0.079049      z-test       0.0\n",
      "39         mobile  Returning Visitor  df_0   df_2  conversions_sessions_CR -0.271396  bayes_test       0.0\n",
      "40         mobile  Returning Visitor  df_1   df_2  conversions_sessions_CR -0.079988      z-test  0.000033\n",
      "41         mobile  Returning Visitor  df_1   df_2  conversions_sessions_CR  -0.07908  bayes_test  0.000016\n",
      "42         mobile        New Visitor  df_0   df_1  conversions_sessions_CR -0.084228      z-test  0.688294\n",
      "43         mobile        New Visitor  df_0   df_1  conversions_sessions_CR  -0.02532  bayes_test  0.349288\n",
      "44         mobile        New Visitor  df_0   df_2  conversions_sessions_CR -0.027906      z-test  0.893718\n",
      "45         mobile        New Visitor  df_0   df_2  conversions_sessions_CR -0.007376  bayes_test  0.452517\n",
      "46         mobile        New Visitor  df_1   df_2  conversions_sessions_CR  0.061502      z-test  0.816319\n",
      "47         mobile        New Visitor  df_1   df_2  conversions_sessions_CR    0.0175  bayes_test  0.591793\n",
      "48        desktop  Returning Visitor  df_0   df_1  conversions_sessions_CR  0.117329      z-test  0.000007\n",
      "49        desktop  Returning Visitor  df_0   df_1  conversions_sessions_CR -0.047072  bayes_test  0.000004\n",
      "50        desktop  Returning Visitor  df_0   df_2  conversions_sessions_CR  0.051019      z-test  0.038364\n",
      "51        desktop  Returning Visitor  df_0   df_2  conversions_sessions_CR -0.019774  bayes_test  0.019186\n",
      "52        desktop  Returning Visitor  df_1   df_2  conversions_sessions_CR -0.059347      z-test       0.0\n",
      "53        desktop  Returning Visitor  df_1   df_2  conversions_sessions_CR -0.067777  bayes_test       0.0\n",
      "54        desktop        New Visitor  df_0   df_1  conversions_sessions_CR -0.017923      z-test  0.594467\n",
      "55        desktop        New Visitor  df_0   df_1  conversions_sessions_CR -0.029079  bayes_test   0.29375\n",
      "56        desktop        New Visitor  df_0   df_2  conversions_sessions_CR -0.005371      z-test  0.607445\n",
      "57        desktop        New Visitor  df_0   df_2  conversions_sessions_CR  0.026954  bayes_test    0.6996\n",
      "58        desktop        New Visitor  df_1   df_2  conversions_sessions_CR  0.012781      z-test  0.982809\n",
      "59        desktop        New Visitor  df_1   df_2  conversions_sessions_CR -0.001342  bayes_test  0.491134\n",
      "60         tablet  Returning Visitor  df_0   df_1  conversions_sessions_CR -0.671011      z-test  0.000111\n",
      "61         tablet  Returning Visitor  df_0   df_1  conversions_sessions_CR -0.433011  bayes_test  0.000043\n",
      "62         tablet  Returning Visitor  df_0   df_2  conversions_sessions_CR -0.160388      z-test  0.225828\n",
      "63         tablet  Returning Visitor  df_0   df_2  conversions_sessions_CR -0.105007  bayes_test  0.115286\n",
      "64         tablet  Returning Visitor  df_1   df_2  conversions_sessions_CR  1.552097      z-test  0.015829\n",
      "65         tablet  Returning Visitor  df_1   df_2  conversions_sessions_CR -0.296834  bayes_test  0.007917\n",
      "66         tablet        New Visitor  df_0   df_1  conversions_sessions_CR  0.206617      z-test  0.378917\n",
      "67         tablet        New Visitor  df_0   df_1  conversions_sessions_CR -0.283882  bayes_test  0.178919\n",
      "68         tablet        New Visitor  df_0   df_2  conversions_sessions_CR  0.033879      z-test  0.765281\n",
      "69         tablet        New Visitor  df_0   df_2  conversions_sessions_CR       0.1  bayes_test  0.638556\n",
      "70         tablet        New Visitor  df_1   df_2  conversions_sessions_CR -0.143159      z-test  0.622768\n",
      "71         tablet        New Visitor  df_1   df_2  conversions_sessions_CR -0.155494  bayes_test  0.313503\n"
     ]
    }
   ],
   "source": [
    "print(res[0].to_string())"
   ]
  },
  {
   "cell_type": "code",
   "execution_count": null,
   "metadata": {},
   "outputs": [],
   "source": [
    "p = Pipeline(res_alpha[res_alpha['experimentVariant']!=2])\n",
    "res = p.pipeline('date', experiment_var_col=\"experimentVariant\", \n",
    "                groups = ['deviceCategory', 'userType'],\n",
    "               metrics_for_binary={\"conversions\": \"sessions\"}, experiment_id='expId_test')"
   ]
  },
  {
   "cell_type": "code",
   "execution_count": 5,
   "metadata": {},
   "outputs": [
    {
     "name": "stdout",
     "output_type": "stream",
     "text": [
      "   deviceCategory           userType first second                   metric mean_lift   test_type   p_value experiment_id\n",
      "0        No group           No group  df_0   df_1  conversions_sessions_CR  0.093551      z-test  0.120127    expId_test\n",
      "1        No group           No group  df_0   df_1  conversions_sessions_CR -0.013811  bayes_test  0.060127    expId_test\n",
      "2          mobile           No group  df_0   df_1  conversions_sessions_CR  0.186467      z-test       0.0    expId_test\n",
      "3          mobile           No group  df_0   df_1  conversions_sessions_CR -0.194527  bayes_test       0.0    expId_test\n",
      "4         desktop           No group  df_0   df_1  conversions_sessions_CR  0.118085      z-test  0.000052    expId_test\n",
      "5         desktop           No group  df_0   df_1  conversions_sessions_CR -0.041584  bayes_test  0.000026    expId_test\n",
      "6          tablet           No group  df_0   df_1  conversions_sessions_CR -0.635695      z-test  0.000577    expId_test\n",
      "7          tablet           No group  df_0   df_1  conversions_sessions_CR -0.351762  bayes_test  0.000247    expId_test\n",
      "8        No group  Returning Visitor  df_0   df_1  conversions_sessions_CR    0.0911      z-test  0.005658    expId_test\n",
      "9        No group  Returning Visitor  df_0   df_1  conversions_sessions_CR -0.025338  bayes_test  0.002819    expId_test\n",
      "10       No group        New Visitor  df_0   df_1  conversions_sessions_CR  0.004387      z-test  0.771981    expId_test\n",
      "11       No group        New Visitor  df_0   df_1  conversions_sessions_CR  0.012214  bayes_test   0.61725    expId_test\n",
      "12         mobile  Returning Visitor  df_0   df_1  conversions_sessions_CR  0.172864      z-test       0.0    expId_test\n",
      "13         mobile  Returning Visitor  df_0   df_1  conversions_sessions_CR -0.178222  bayes_test      -0.0    expId_test\n",
      "14         mobile        New Visitor  df_0   df_1  conversions_sessions_CR -0.084228      z-test  0.688294    expId_test\n",
      "15         mobile        New Visitor  df_0   df_1  conversions_sessions_CR  -0.02532  bayes_test  0.349288    expId_test\n",
      "16        desktop  Returning Visitor  df_0   df_1  conversions_sessions_CR  0.117329      z-test  0.000007    expId_test\n",
      "17        desktop  Returning Visitor  df_0   df_1  conversions_sessions_CR -0.047072  bayes_test  0.000004    expId_test\n",
      "18        desktop        New Visitor  df_0   df_1  conversions_sessions_CR -0.017923      z-test  0.594467    expId_test\n",
      "19        desktop        New Visitor  df_0   df_1  conversions_sessions_CR -0.029079  bayes_test   0.29375    expId_test\n",
      "20         tablet  Returning Visitor  df_0   df_1  conversions_sessions_CR -0.671011      z-test  0.000111    expId_test\n",
      "21         tablet  Returning Visitor  df_0   df_1  conversions_sessions_CR -0.433011  bayes_test  0.000043    expId_test\n",
      "22         tablet        New Visitor  df_0   df_1  conversions_sessions_CR  0.206617      z-test  0.378917    expId_test\n",
      "23         tablet        New Visitor  df_0   df_1  conversions_sessions_CR -0.283882  bayes_test  0.178919    expId_test\n"
     ]
    }
   ],
   "source": [
    "print(res[0].to_string())"
   ]
  },
  {
   "cell_type": "code",
   "execution_count": null,
   "metadata": {},
   "outputs": [],
   "source": []
  }
 ],
 "metadata": {
  "kernelspec": {
   "display_name": "Python 3.9.13 64-bit (microsoft store)",
   "language": "python",
   "name": "python3"
  },
  "language_info": {
   "codemirror_mode": {
    "name": "ipython",
    "version": 3
   },
   "file_extension": ".py",
   "mimetype": "text/x-python",
   "name": "python",
   "nbconvert_exporter": "python",
   "pygments_lexer": "ipython3",
   "version": "3.9.13"
  },
  "orig_nbformat": 4,
  "vscode": {
   "interpreter": {
    "hash": "daf60625d27616f1085373b751b5f1bd6c83b8c1e03653494b965f39ae333532"
   }
  }
 },
 "nbformat": 4,
 "nbformat_minor": 2
}
