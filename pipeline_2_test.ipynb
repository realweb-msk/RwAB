{
 "cells": [
  {
   "cell_type": "code",
   "execution_count": 1,
   "metadata": {},
   "outputs": [
    {
     "data": {
      "text/html": [
       "<div>\n",
       "<style scoped>\n",
       "    .dataframe tbody tr th:only-of-type {\n",
       "        vertical-align: middle;\n",
       "    }\n",
       "\n",
       "    .dataframe tbody tr th {\n",
       "        vertical-align: top;\n",
       "    }\n",
       "\n",
       "    .dataframe thead th {\n",
       "        text-align: right;\n",
       "    }\n",
       "</style>\n",
       "<table border=\"1\" class=\"dataframe\">\n",
       "  <thead>\n",
       "    <tr style=\"text-align: right;\">\n",
       "      <th></th>\n",
       "      <th>date</th>\n",
       "      <th>experimentId</th>\n",
       "      <th>experimentVariant</th>\n",
       "      <th>product</th>\n",
       "      <th>deviceCategory</th>\n",
       "      <th>userType</th>\n",
       "      <th>channel</th>\n",
       "      <th>goalID</th>\n",
       "      <th>sessions</th>\n",
       "      <th>users</th>\n",
       "      <th>conversions</th>\n",
       "    </tr>\n",
       "  </thead>\n",
       "  <tbody>\n",
       "    <tr>\n",
       "      <th>0</th>\n",
       "      <td>23.09.2021</td>\n",
       "      <td>2ccd4f1b7d290c28600eb2a955f80242d96ad08d11c95a...</td>\n",
       "      <td>0</td>\n",
       "      <td>CC</td>\n",
       "      <td>mobile</td>\n",
       "      <td>Returning Visitor</td>\n",
       "      <td>channel1</td>\n",
       "      <td>goal1</td>\n",
       "      <td>1027</td>\n",
       "      <td>616</td>\n",
       "      <td>53</td>\n",
       "    </tr>\n",
       "    <tr>\n",
       "      <th>1</th>\n",
       "      <td>08.10.2021</td>\n",
       "      <td>2ccd4f1b7d290c28600eb2a955f80242d96ad08d11c95a...</td>\n",
       "      <td>0</td>\n",
       "      <td>CC</td>\n",
       "      <td>mobile</td>\n",
       "      <td>Returning Visitor</td>\n",
       "      <td>channel1</td>\n",
       "      <td>goal1</td>\n",
       "      <td>1160</td>\n",
       "      <td>806</td>\n",
       "      <td>56</td>\n",
       "    </tr>\n",
       "    <tr>\n",
       "      <th>2</th>\n",
       "      <td>26.09.2021</td>\n",
       "      <td>2ccd4f1b7d290c28600eb2a955f80242d96ad08d11c95a...</td>\n",
       "      <td>0</td>\n",
       "      <td>CC</td>\n",
       "      <td>mobile</td>\n",
       "      <td>Returning Visitor</td>\n",
       "      <td>channel1</td>\n",
       "      <td>goal1</td>\n",
       "      <td>1569</td>\n",
       "      <td>932</td>\n",
       "      <td>62</td>\n",
       "    </tr>\n",
       "    <tr>\n",
       "      <th>3</th>\n",
       "      <td>30.09.2021</td>\n",
       "      <td>2ccd4f1b7d290c28600eb2a955f80242d96ad08d11c95a...</td>\n",
       "      <td>0</td>\n",
       "      <td>CC</td>\n",
       "      <td>mobile</td>\n",
       "      <td>Returning Visitor</td>\n",
       "      <td>channel1</td>\n",
       "      <td>goal1</td>\n",
       "      <td>2330</td>\n",
       "      <td>1344</td>\n",
       "      <td>92</td>\n",
       "    </tr>\n",
       "    <tr>\n",
       "      <th>4</th>\n",
       "      <td>27.09.2021</td>\n",
       "      <td>2ccd4f1b7d290c28600eb2a955f80242d96ad08d11c95a...</td>\n",
       "      <td>0</td>\n",
       "      <td>CC</td>\n",
       "      <td>mobile</td>\n",
       "      <td>Returning Visitor</td>\n",
       "      <td>channel1</td>\n",
       "      <td>goal1</td>\n",
       "      <td>2087</td>\n",
       "      <td>1207</td>\n",
       "      <td>94</td>\n",
       "    </tr>\n",
       "  </tbody>\n",
       "</table>\n",
       "</div>"
      ],
      "text/plain": [
       "         date                                       experimentId  \\\n",
       "0  23.09.2021  2ccd4f1b7d290c28600eb2a955f80242d96ad08d11c95a...   \n",
       "1  08.10.2021  2ccd4f1b7d290c28600eb2a955f80242d96ad08d11c95a...   \n",
       "2  26.09.2021  2ccd4f1b7d290c28600eb2a955f80242d96ad08d11c95a...   \n",
       "3  30.09.2021  2ccd4f1b7d290c28600eb2a955f80242d96ad08d11c95a...   \n",
       "4  27.09.2021  2ccd4f1b7d290c28600eb2a955f80242d96ad08d11c95a...   \n",
       "\n",
       "   experimentVariant product deviceCategory           userType   channel  \\\n",
       "0                  0      CC         mobile  Returning Visitor  channel1   \n",
       "1                  0      CC         mobile  Returning Visitor  channel1   \n",
       "2                  0      CC         mobile  Returning Visitor  channel1   \n",
       "3                  0      CC         mobile  Returning Visitor  channel1   \n",
       "4                  0      CC         mobile  Returning Visitor  channel1   \n",
       "\n",
       "  goalID  sessions  users  conversions  \n",
       "0  goal1      1027    616           53  \n",
       "1  goal1      1160    806           56  \n",
       "2  goal1      1569    932           62  \n",
       "3  goal1      2330   1344           92  \n",
       "4  goal1      2087   1207           94  "
      ]
     },
     "execution_count": 1,
     "metadata": {},
     "output_type": "execute_result"
    }
   ],
   "source": [
    "from ab_test_pipeline_2 import Pipeline\n",
    "import pandas as pd\n",
    "\n",
    "res_alpha = pd.read_csv('res_alpha.csv', sep=';')\n",
    "\n",
    "res_alpha.head()"
   ]
  },
  {
   "cell_type": "code",
   "execution_count": 2,
   "metadata": {},
   "outputs": [],
   "source": [
    "p = Pipeline(res_alpha)\n",
    "res = p.pipeline('date', experiment_var_col=\"experimentVariant\", \n",
    "                groups = ['deviceCategory', 'userType', 'goalID'],\n",
    "                #metric_aggregations={\"conversions\":\"sum\", \"sessions\":\"sum\"},\n",
    "               metrics_for_binary={\"conversions\": \"sessions\"})\n",
    "            \n",
    "               "
   ]
  },
  {
   "cell_type": "code",
   "execution_count": 3,
   "metadata": {},
   "outputs": [
    {
     "name": "stdout",
     "output_type": "stream",
     "text": [
      "    deviceCategory           userType    goalID first second                   metric mean_lift   test_type   p_value\n",
      "0         No group           No group  No group  df_0   df_1  conversions_sessions_CR  0.093551      z-test  0.120127\n",
      "1         No group           No group  No group  df_0   df_2  conversions_sessions_CR  0.043886      z-test       0.0\n",
      "2         No group           No group  No group  df_1   df_2  conversions_sessions_CR -0.045416      z-test       0.0\n",
      "3         No group           No group  No group  df_0   df_1  conversions_sessions_CR -0.013811  bayes_test  0.060127\n",
      "4         No group           No group  No group  df_0   df_2  conversions_sessions_CR -0.048935  bayes_test       0.0\n",
      "5         No group           No group  No group  df_1   df_2  conversions_sessions_CR -0.063422  bayes_test       0.0\n",
      "6           mobile           No group  No group  df_0   df_1  conversions_sessions_CR  0.186467      z-test       0.0\n",
      "7           mobile           No group  No group  df_0   df_2  conversions_sessions_CR  0.108097      z-test       0.0\n",
      "8           mobile           No group  No group  df_1   df_2  conversions_sessions_CR -0.066054      z-test       0.0\n",
      "9           mobile           No group  No group  df_0   df_1  conversions_sessions_CR -0.194527  bayes_test       0.0\n",
      "10          mobile           No group  No group  df_0   df_2  conversions_sessions_CR  -0.32075  bayes_test      -0.0\n",
      "11          mobile           No group  No group  df_1   df_2  conversions_sessions_CR -0.105668  bayes_test       0.0\n",
      "12         desktop           No group  No group  df_0   df_1  conversions_sessions_CR  0.118085      z-test  0.000052\n",
      "13         desktop           No group  No group  df_0   df_2  conversions_sessions_CR  0.053128      z-test  0.007567\n",
      "14         desktop           No group  No group  df_1   df_2  conversions_sessions_CR -0.058096      z-test       0.0\n",
      "15         desktop           No group  No group  df_0   df_1  conversions_sessions_CR -0.041584  bayes_test  0.000026\n",
      "16         desktop           No group  No group  df_0   df_2  conversions_sessions_CR -0.025143  bayes_test  0.003792\n",
      "17         desktop           No group  No group  df_1   df_2  conversions_sessions_CR -0.067772  bayes_test       0.0\n",
      "18          tablet           No group  No group  df_0   df_1  conversions_sessions_CR -0.635695      z-test  0.000577\n",
      "19          tablet           No group  No group  df_0   df_2  conversions_sessions_CR -0.153462      z-test  0.276284\n",
      "20          tablet           No group  No group  df_1   df_2  conversions_sessions_CR  1.323706      z-test  0.033743\n",
      "21          tablet           No group  No group  df_0   df_1  conversions_sessions_CR -0.351762  bayes_test  0.000247\n",
      "22          tablet           No group  No group  df_0   df_2  conversions_sessions_CR -0.089677  bayes_test  0.141017\n",
      "23          tablet           No group  No group  df_1   df_2  conversions_sessions_CR -0.240516  bayes_test  0.016916\n",
      "24        No group  Returning Visitor  No group  df_0   df_1  conversions_sessions_CR    0.0911      z-test  0.005658\n",
      "25        No group  Returning Visitor  No group  df_0   df_2  conversions_sessions_CR   0.03733      z-test   0.00039\n",
      "26        No group  Returning Visitor  No group  df_1   df_2  conversions_sessions_CR -0.049281      z-test       0.0\n",
      "27        No group  Returning Visitor  No group  df_0   df_1  conversions_sessions_CR -0.025338  bayes_test  0.002819\n",
      "28        No group  Returning Visitor  No group  df_0   df_2  conversions_sessions_CR  -0.02957  bayes_test  0.000196\n",
      "29        No group  Returning Visitor  No group  df_1   df_2  conversions_sessions_CR -0.055657  bayes_test       0.0\n",
      "30        No group        New Visitor  No group  df_0   df_1  conversions_sessions_CR  0.004387      z-test  0.771981\n",
      "31        No group        New Visitor  No group  df_0   df_2  conversions_sessions_CR  0.004011      z-test  0.576738\n",
      "32        No group        New Visitor  No group  df_1   df_2  conversions_sessions_CR -0.000375      z-test  0.817562\n",
      "33        No group        New Visitor  No group  df_0   df_1  conversions_sessions_CR  0.012214  bayes_test   0.61725\n",
      "34        No group        New Visitor  No group  df_0   df_2  conversions_sessions_CR -0.023253  bayes_test  0.285733\n",
      "35        No group        New Visitor  No group  df_1   df_2  conversions_sessions_CR  0.010641  bayes_test  0.591118\n",
      "36        No group           No group     goal1  df_0   df_1  conversions_sessions_CR  0.124456      z-test       0.0\n",
      "37        No group           No group     goal1  df_0   df_1  conversions_sessions_CR -0.054516  bayes_test       0.0\n",
      "38        No group           No group     goal2  df_0   df_2  conversions_sessions_CR  0.029918      z-test       0.0\n",
      "39        No group           No group     goal2  df_0   df_2  conversions_sessions_CR  -0.11333  bayes_test       0.0\n",
      "40          mobile  Returning Visitor  No group  df_0   df_1  conversions_sessions_CR  0.172864      z-test       0.0\n",
      "41          mobile  Returning Visitor  No group  df_0   df_2  conversions_sessions_CR  0.079049      z-test       0.0\n",
      "42          mobile  Returning Visitor  No group  df_1   df_2  conversions_sessions_CR -0.079988      z-test  0.000033\n",
      "43          mobile  Returning Visitor  No group  df_0   df_1  conversions_sessions_CR -0.178222  bayes_test      -0.0\n",
      "44          mobile  Returning Visitor  No group  df_0   df_2  conversions_sessions_CR -0.271396  bayes_test       0.0\n",
      "45          mobile  Returning Visitor  No group  df_1   df_2  conversions_sessions_CR  -0.07908  bayes_test  0.000016\n",
      "46          mobile        New Visitor  No group  df_0   df_1  conversions_sessions_CR -0.084228      z-test  0.688294\n",
      "47          mobile        New Visitor  No group  df_0   df_2  conversions_sessions_CR -0.027906      z-test  0.893718\n",
      "48          mobile        New Visitor  No group  df_1   df_2  conversions_sessions_CR  0.061502      z-test  0.816319\n",
      "49          mobile        New Visitor  No group  df_0   df_1  conversions_sessions_CR  -0.02532  bayes_test  0.349288\n",
      "50          mobile        New Visitor  No group  df_0   df_2  conversions_sessions_CR -0.007376  bayes_test  0.452517\n",
      "51          mobile        New Visitor  No group  df_1   df_2  conversions_sessions_CR    0.0175  bayes_test  0.591793\n",
      "52         desktop  Returning Visitor  No group  df_0   df_1  conversions_sessions_CR  0.117329      z-test  0.000007\n",
      "53         desktop  Returning Visitor  No group  df_0   df_2  conversions_sessions_CR  0.051019      z-test  0.038364\n",
      "54         desktop  Returning Visitor  No group  df_1   df_2  conversions_sessions_CR -0.059347      z-test       0.0\n",
      "55         desktop  Returning Visitor  No group  df_0   df_1  conversions_sessions_CR -0.047072  bayes_test  0.000004\n",
      "56         desktop  Returning Visitor  No group  df_0   df_2  conversions_sessions_CR -0.019774  bayes_test  0.019186\n",
      "57         desktop  Returning Visitor  No group  df_1   df_2  conversions_sessions_CR -0.067777  bayes_test       0.0\n",
      "58         desktop        New Visitor  No group  df_0   df_1  conversions_sessions_CR -0.017923      z-test  0.594467\n",
      "59         desktop        New Visitor  No group  df_0   df_2  conversions_sessions_CR -0.005371      z-test  0.607445\n",
      "60         desktop        New Visitor  No group  df_1   df_2  conversions_sessions_CR  0.012781      z-test  0.982809\n",
      "61         desktop        New Visitor  No group  df_0   df_1  conversions_sessions_CR -0.029079  bayes_test   0.29375\n",
      "62         desktop        New Visitor  No group  df_0   df_2  conversions_sessions_CR  0.026954  bayes_test    0.6996\n",
      "63         desktop        New Visitor  No group  df_1   df_2  conversions_sessions_CR -0.001342  bayes_test  0.491134\n",
      "64          tablet  Returning Visitor  No group  df_0   df_1  conversions_sessions_CR -0.671011      z-test  0.000111\n",
      "65          tablet  Returning Visitor  No group  df_0   df_2  conversions_sessions_CR -0.160388      z-test  0.225828\n",
      "66          tablet  Returning Visitor  No group  df_1   df_2  conversions_sessions_CR  1.552097      z-test  0.015829\n",
      "67          tablet  Returning Visitor  No group  df_0   df_1  conversions_sessions_CR -0.433011  bayes_test  0.000043\n",
      "68          tablet  Returning Visitor  No group  df_0   df_2  conversions_sessions_CR -0.105007  bayes_test  0.115286\n",
      "69          tablet  Returning Visitor  No group  df_1   df_2  conversions_sessions_CR -0.296834  bayes_test  0.007917\n",
      "70          tablet        New Visitor  No group  df_0   df_1  conversions_sessions_CR  0.206617      z-test  0.378917\n",
      "71          tablet        New Visitor  No group  df_0   df_2  conversions_sessions_CR  0.033879      z-test  0.765281\n",
      "72          tablet        New Visitor  No group  df_1   df_2  conversions_sessions_CR -0.143159      z-test  0.622768\n",
      "73          tablet        New Visitor  No group  df_0   df_1  conversions_sessions_CR -0.283882  bayes_test  0.178919\n",
      "74          tablet        New Visitor  No group  df_0   df_2  conversions_sessions_CR       0.1  bayes_test  0.638556\n",
      "75          tablet        New Visitor  No group  df_1   df_2  conversions_sessions_CR -0.155494  bayes_test  0.313503\n",
      "76          mobile           No group     goal1  df_0   df_1  conversions_sessions_CR  0.215272      z-test  0.026805\n",
      "77          mobile           No group     goal1  df_0   df_1  conversions_sessions_CR -0.046016  bayes_test  0.013401\n",
      "78          mobile           No group     goal2  df_0   df_2  conversions_sessions_CR  0.200651      z-test       0.0\n",
      "79          mobile           No group     goal2  df_0   df_2  conversions_sessions_CR -0.800006  bayes_test      -0.0\n",
      "80         desktop           No group     goal1  df_0   df_1  conversions_sessions_CR  0.161946      z-test       0.0\n",
      "81         desktop           No group     goal1  df_0   df_1  conversions_sessions_CR -0.079734  bayes_test       0.0\n",
      "82         desktop           No group     goal2  df_0   df_2  conversions_sessions_CR  0.027522      z-test       0.0\n",
      "83         desktop           No group     goal2  df_0   df_2  conversions_sessions_CR  -0.07614  bayes_test       0.0\n",
      "84          tablet           No group     goal1  df_0   df_1  conversions_sessions_CR -0.677782      z-test  0.000082\n",
      "85          tablet           No group     goal1  df_0   df_1  conversions_sessions_CR -0.463815  bayes_test  0.000039\n",
      "86          tablet           No group     goal2  df_0   df_2  conversions_sessions_CR -0.000075      z-test  0.998059\n",
      "87          tablet           No group     goal2  df_0   df_2  conversions_sessions_CR -0.000232  bayes_test  0.499028\n",
      "88        No group  Returning Visitor     goal1  df_0   df_1  conversions_sessions_CR  0.127523      z-test       0.0\n",
      "89        No group  Returning Visitor     goal1  df_0   df_1  conversions_sessions_CR -0.059578  bayes_test       0.0\n",
      "90        No group  Returning Visitor     goal2  df_0   df_2  conversions_sessions_CR  0.018377      z-test       0.0\n",
      "91        No group  Returning Visitor     goal2  df_0   df_2  conversions_sessions_CR -0.083882  bayes_test      -0.0\n",
      "92        No group        New Visitor     goal1  df_0   df_1  conversions_sessions_CR -0.003427      z-test  0.894468\n",
      "93        No group        New Visitor     goal1  df_0   df_1  conversions_sessions_CR  0.006185  bayes_test   0.55276\n",
      "94        No group        New Visitor     goal2  df_0   df_2  conversions_sessions_CR  0.010044      z-test  0.547707\n",
      "95        No group        New Visitor     goal2  df_0   df_2  conversions_sessions_CR -0.028493  bayes_test  0.274023\n",
      "96          mobile  Returning Visitor     goal1  df_0   df_1  conversions_sessions_CR  0.222781      z-test  0.027685\n",
      "97          mobile  Returning Visitor     goal1  df_0   df_1  conversions_sessions_CR -0.047483  bayes_test  0.013841\n",
      "98          mobile  Returning Visitor     goal2  df_0   df_2  conversions_sessions_CR  0.203056      z-test       0.0\n",
      "99          mobile  Returning Visitor     goal2  df_0   df_2  conversions_sessions_CR -0.760808  bayes_test      -0.0\n",
      "100         mobile        New Visitor     goal1  df_0   df_1  conversions_sessions_CR -0.108107      z-test  0.642953\n",
      "101         mobile        New Visitor     goal1  df_0   df_1  conversions_sessions_CR -0.035729  bayes_test  0.321562\n",
      "102         mobile        New Visitor     goal2  df_0   df_2  conversions_sessions_CR       0.0      z-test       1.0\n",
      "103         mobile        New Visitor     goal2  df_0   df_2  conversions_sessions_CR       0.0  bayes_test       0.5\n",
      "104        desktop  Returning Visitor     goal1  df_0   df_1  conversions_sessions_CR  0.163005      z-test       0.0\n",
      "105        desktop  Returning Visitor     goal1  df_0   df_1  conversions_sessions_CR   -0.0848  bayes_test      -0.0\n",
      "106        desktop  Returning Visitor     goal2  df_0   df_2  conversions_sessions_CR  0.025175      z-test       0.0\n",
      "107        desktop  Returning Visitor     goal2  df_0   df_2  conversions_sessions_CR -0.070359  bayes_test       0.0\n",
      "108        desktop        New Visitor     goal1  df_0   df_1  conversions_sessions_CR -0.029145      z-test  0.642243\n",
      "109        desktop        New Visitor     goal1  df_0   df_1  conversions_sessions_CR  0.027577  bayes_test  0.678877\n",
      "110        desktop        New Visitor     goal2  df_0   df_2  conversions_sessions_CR   0.00546      z-test  0.661722\n",
      "111        desktop        New Visitor     goal2  df_0   df_2  conversions_sessions_CR  0.025894  bayes_test  0.668654\n",
      "112         tablet  Returning Visitor     goal1  df_0   df_1  conversions_sessions_CR -0.713376      z-test   0.00001\n",
      "113         tablet  Returning Visitor     goal1  df_0   df_1  conversions_sessions_CR -0.569383  bayes_test  0.000005\n",
      "114         tablet  Returning Visitor     goal2  df_0   df_2  conversions_sessions_CR       0.0      z-test       1.0\n",
      "115         tablet  Returning Visitor     goal2  df_0   df_2  conversions_sessions_CR       0.0  bayes_test       0.5\n",
      "116         tablet        New Visitor     goal1  df_0   df_1  conversions_sessions_CR  0.226049      z-test  0.308565\n",
      "117         tablet        New Visitor     goal1  df_0   df_1  conversions_sessions_CR -0.365867  bayes_test  0.157168\n",
      "118         tablet        New Visitor     goal2  df_0   df_2  conversions_sessions_CR -0.001281      z-test  0.996027\n",
      "119         tablet        New Visitor     goal2  df_0   df_2  conversions_sessions_CR -0.001587  bayes_test  0.497978\n"
     ]
    }
   ],
   "source": [
    "print(res[0].to_string())"
   ]
  },
  {
   "cell_type": "code",
   "execution_count": 4,
   "metadata": {},
   "outputs": [],
   "source": [
    "df = res[0].copy()"
   ]
  },
  {
   "cell_type": "code",
   "execution_count": 5,
   "metadata": {},
   "outputs": [
    {
     "data": {
      "text/plain": [
       "22.23382330849148"
      ]
     },
     "execution_count": 5,
     "metadata": {},
     "output_type": "execute_result"
    }
   ],
   "source": [
    "df[df['first']=='df_0']['p_value'].sum()"
   ]
  },
  {
   "cell_type": "code",
   "execution_count": 7,
   "metadata": {},
   "outputs": [
    {
     "data": {
      "text/plain": [
       "0"
      ]
     },
     "execution_count": 7,
     "metadata": {},
     "output_type": "execute_result"
    }
   ],
   "source": [
    "df[df['first']=='']['p_value'].sum()"
   ]
  },
  {
   "cell_type": "code",
   "execution_count": 12,
   "metadata": {},
   "outputs": [
    {
     "data": {
      "text/plain": [
       "16.987195746031805"
      ]
     },
     "execution_count": 12,
     "metadata": {},
     "output_type": "execute_result"
    }
   ],
   "source": [
    "df[df['test_type']=='z-test']['p_value'].sum()"
   ]
  }
 ],
 "metadata": {
  "kernelspec": {
   "display_name": "Python 3.9.12 ('base')",
   "language": "python",
   "name": "python3"
  },
  "language_info": {
   "codemirror_mode": {
    "name": "ipython",
    "version": 3
   },
   "file_extension": ".py",
   "mimetype": "text/x-python",
   "name": "python",
   "nbconvert_exporter": "python",
   "pygments_lexer": "ipython3",
   "version": "3.9.12"
  },
  "orig_nbformat": 4,
  "vscode": {
   "interpreter": {
    "hash": "ad2bdc8ecc057115af97d19610ffacc2b4e99fae6737bb82f5d7fb13d2f2c186"
   }
  }
 },
 "nbformat": 4,
 "nbformat_minor": 2
}
