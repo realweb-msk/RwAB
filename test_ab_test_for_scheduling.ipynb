{
 "cells": [
  {
   "cell_type": "code",
   "execution_count": null,
   "metadata": {},
   "outputs": [],
   "source": []
  }
 ],
 "metadata": {
  "kernelspec": {
   "display_name": "Python 3.9.13 64-bit (microsoft store)",
   "language": "python",
   "name": "python3"
  },
  "language_info": {
   "name": "python",
   "version": "3.9.13"
  },
  "orig_nbformat": 4,
  "vscode": {
   "interpreter": {
    "hash": "daf60625d27616f1085373b751b5f1bd6c83b8c1e03653494b965f39ae333532"
   }
  }
 },
 "nbformat": 4,
 "nbformat_minor": 2
}
